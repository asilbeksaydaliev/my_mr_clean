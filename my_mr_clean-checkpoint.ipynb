{
 "cells": [
  {
   "cell_type": "code",
   "execution_count": 108,
   "id": "4f47bdd8",
   "metadata": {},
   "outputs": [],
   "source": [
    "# Что такое Wikipedia API? \n",
    "# Ответ:\n",
    "# Движок MediaWiki имеет свой API, который является веб-службой, обеспечивающей\n",
    "# доступ к таким функциям вики, как аутентификация, операции над страницами, поиск по вики и множество других операций."
   ]
  },
  {
   "cell_type": "code",
   "execution_count": 109,
   "id": "9297f0ad",
   "metadata": {},
   "outputs": [],
   "source": [
    "# Мы так просто не сможем отправить запрос на Wikipedia.\n",
    "# Для этого нужен специальный адресс API Wikipedia: \"https://en.wikipedia.org/w/api.php\""
   ]
  },
  {
   "cell_type": "code",
   "execution_count": 110,
   "id": "e0588aab",
   "metadata": {},
   "outputs": [],
   "source": [
    "# Можете использовать alternative: import wikipedia  //wrapper for wiki API, Но тут запрещается использовать это.\n",
    "# → Using pip install wikipedia and import wikipedia is strictly forbidden!"
   ]
  },
  {
   "cell_type": "code",
   "execution_count": 111,
   "id": "21bfbdc7",
   "metadata": {},
   "outputs": [],
   "source": [
    "### 1) Первый шаг Import requests и взять от этого сайта дату в виде json"
   ]
  },
  {
   "cell_type": "code",
   "execution_count": 112,
   "id": "c01041e3",
   "metadata": {},
   "outputs": [
    {
     "name": "stdout",
     "output_type": "stream",
     "text": [
      "Requirement already satisfied: seaborn in /home/docode/.pyenv/versions/3.6.7/lib/python3.6/site-packages (0.11.2)\n",
      "Requirement already satisfied: matplotlib>=2.2 in /home/docode/.pyenv/versions/3.6.7/lib/python3.6/site-packages (from seaborn) (3.3.4)\n",
      "Requirement already satisfied: scipy>=1.0 in /home/docode/.pyenv/versions/3.6.7/lib/python3.6/site-packages (from seaborn) (1.5.4)\n",
      "Requirement already satisfied: numpy>=1.15 in /home/docode/.pyenv/versions/3.6.7/lib/python3.6/site-packages (from seaborn) (1.19.5)\n",
      "Requirement already satisfied: pandas>=0.23 in /home/docode/.pyenv/versions/3.6.7/lib/python3.6/site-packages (from seaborn) (1.1.5)\n",
      "Requirement already satisfied: python-dateutil>=2.1 in /home/docode/.pyenv/versions/3.6.7/lib/python3.6/site-packages (from matplotlib>=2.2->seaborn) (2.8.2)\n",
      "Requirement already satisfied: pillow>=6.2.0 in /home/docode/.pyenv/versions/3.6.7/lib/python3.6/site-packages (from matplotlib>=2.2->seaborn) (8.4.0)\n",
      "Requirement already satisfied: cycler>=0.10 in /home/docode/.pyenv/versions/3.6.7/lib/python3.6/site-packages (from matplotlib>=2.2->seaborn) (0.11.0)\n",
      "Requirement already satisfied: pyparsing!=2.0.4,!=2.1.2,!=2.1.6,>=2.0.3 in /home/docode/.pyenv/versions/3.6.7/lib/python3.6/site-packages (from matplotlib>=2.2->seaborn) (3.0.7)\n",
      "Requirement already satisfied: kiwisolver>=1.0.1 in /home/docode/.pyenv/versions/3.6.7/lib/python3.6/site-packages (from matplotlib>=2.2->seaborn) (1.3.1)\n",
      "Requirement already satisfied: pytz>=2017.2 in /home/docode/.pyenv/versions/3.6.7/lib/python3.6/site-packages (from pandas>=0.23->seaborn) (2022.1)\n",
      "Requirement already satisfied: six>=1.5 in /home/docode/.pyenv/versions/3.6.7/lib/python3.6/site-packages (from python-dateutil>=2.1->matplotlib>=2.2->seaborn) (1.16.0)\n",
      "Note: you may need to restart the kernel to use updated packages.\n"
     ]
    }
   ],
   "source": [
    "pip install seaborn\n"
   ]
  },
  {
   "cell_type": "code",
   "execution_count": 179,
   "id": "da53b48b",
   "metadata": {},
   "outputs": [],
   "source": [
    "import requests\n",
    "import re\n",
    "import seaborn as sns\n",
    "url = \"https://en.wikipedia.org/w/api.php\"\n",
    "res = requests.get(url, params = {\"action\":\"query\", \"prop\":\"extracts\", \"titles\":\"Ozone_layer\", \"format\":\"json\"})\n",
    "json_data = res.json()"
   ]
  },
  {
   "cell_type": "code",
   "execution_count": 180,
   "id": "e3901977",
   "metadata": {},
   "outputs": [],
   "source": [
    "raw_text = json_data['query']['pages']['22834']['extract']\n",
    "#print(raw_text)\n"
   ]
  },
  {
   "cell_type": "code",
   "execution_count": 181,
   "id": "044abd73",
   "metadata": {},
   "outputs": [],
   "source": [
    "# 2) 2 Шаг  CLEAN HTML \n",
    "# Для этого мы используес import re - module for regular expressions\n"
   ]
  },
  {
   "cell_type": "code",
   "execution_count": 182,
   "id": "3519668d",
   "metadata": {},
   "outputs": [],
   "source": [
    "def cleanhtml(raw_html):\n",
    "  html = re.compile('<.*?>')\n",
    "  clean = re.sub(html,'', raw_html)  \n",
    "  return clean"
   ]
  },
  {
   "cell_type": "code",
   "execution_count": 183,
   "id": "2fe2f8d9",
   "metadata": {},
   "outputs": [],
   "source": [
    "no_html_text = cleanhtml(raw_text)"
   ]
  },
  {
   "cell_type": "code",
   "execution_count": 184,
   "id": "b1ca815b",
   "metadata": {},
   "outputs": [],
   "source": [
    "#print(no_html_text)"
   ]
  },
  {
   "cell_type": "code",
   "execution_count": 185,
   "id": "a9467977",
   "metadata": {},
   "outputs": [],
   "source": [
    "### 3) 3 Шаг Split list \n"
   ]
  },
  {
   "cell_type": "code",
   "execution_count": 186,
   "id": "2ac1abe1",
   "metadata": {},
   "outputs": [],
   "source": [
    "def merge_contents(data):\n",
    "    splitted_text = re.split(\"\\. |, |\\.|\\n| |-|\\'\", data)\n",
    "    return splitted_text\n",
    "merge_content = merge_contents(no_html_text)"
   ]
  },
  {
   "cell_type": "code",
   "execution_count": 187,
   "id": "d12ece3a",
   "metadata": {},
   "outputs": [],
   "source": [
    "#print(merge_content)"
   ]
  },
  {
   "cell_type": "code",
   "execution_count": 188,
   "id": "adb42df6",
   "metadata": {},
   "outputs": [],
   "source": [
    "# 4) 4 Шаг глубокая очистка листа Deep cleaning\n"
   ]
  },
  {
   "cell_type": "code",
   "execution_count": 189,
   "id": "0e405794",
   "metadata": {},
   "outputs": [],
   "source": [
    "def tokenize(content):\n",
    "    special_char_removed = [word for word in content if word.isalnum()] #!@#$%^^&, list comprehension - Это цикл или loop только в ону линию\n",
    "    \n",
    "    num_removed = [word for word in special_char_removed if not word.isdigit()]\n",
    "\n",
    "    return num_removed\n",
    "    \n",
    "collection = tokenize(merge_content)"
   ]
  },
  {
   "cell_type": "code",
   "execution_count": 190,
   "id": "a4b54a86",
   "metadata": {},
   "outputs": [],
   "source": [
    "#print(collection)"
   ]
  },
  {
   "cell_type": "code",
   "execution_count": 191,
   "id": "e39ce524",
   "metadata": {},
   "outputs": [],
   "source": [
    "# I can used lop \n",
    "# my_list = []\n",
    "# for word in merge_content:\n",
    "#     if word.isalnum():\n",
    "#         my_list.append(word)\n",
    "\n",
    "# my_list"
   ]
  },
  {
   "cell_type": "code",
   "execution_count": 192,
   "id": "65335476",
   "metadata": {},
   "outputs": [],
   "source": [
    "# 5) 5  Шаг lower_collection - Зделать все буквы маленькими\n",
    "\n"
   ]
  },
  {
   "cell_type": "code",
   "execution_count": 193,
   "id": "1bcc2773",
   "metadata": {},
   "outputs": [],
   "source": [
    "def lower_collection(collection):\n",
    "    \n",
    "    lower_each = [word.lower() for word in collection]\n",
    "    return lower_each\n",
    "plain_text = lower_collection(collection)"
   ]
  },
  {
   "cell_type": "code",
   "execution_count": 194,
   "id": "b23250ab",
   "metadata": {},
   "outputs": [],
   "source": [
    "#print(plain_text)"
   ]
  },
  {
   "cell_type": "code",
   "execution_count": 195,
   "id": "eff60e88",
   "metadata": {},
   "outputs": [],
   "source": [
    "# 6) 6 Шаг Term Frequency - часто повторяемые слова мы должны найти \n",
    "\n"
   ]
  },
  {
   "cell_type": "code",
   "execution_count": 196,
   "id": "d37c1425",
   "metadata": {},
   "outputs": [],
   "source": [
    "def count_frequency(collection):\n",
    "    frequency = {} \n",
    "    for word in collection:\n",
    "        if word in frequency:\n",
    "            frequency[word] += 1\n",
    "        else:\n",
    "            frequency[word] = 1\n",
    "    return frequency\n",
    "freq_of_words = count_frequency(plain_text)\n"
   ]
  },
  {
   "cell_type": "code",
   "execution_count": 197,
   "id": "8bfcd869",
   "metadata": {},
   "outputs": [],
   "source": [
    "#print(freq_of_words)"
   ]
  },
  {
   "cell_type": "code",
   "execution_count": 198,
   "id": "904e1f1d",
   "metadata": {},
   "outputs": [],
   "source": [
    "# 7) 6 Шаг Sort dictionary - сортировка по возрастанию\n"
   ]
  },
  {
   "cell_type": "code",
   "execution_count": 199,
   "id": "0c22888b",
   "metadata": {},
   "outputs": [],
   "source": [
    "freq_of_words = {k:v for k,v in sorted(freq_of_words.items(),\n",
    "                key=lambda item: item[1], \n",
    "                reverse=True)\n",
    "                } # Dictionary comprehention"
   ]
  },
  {
   "cell_type": "code",
   "execution_count": 200,
   "id": "448daf9e",
   "metadata": {},
   "outputs": [],
   "source": [
    "#print(freq_of_words)"
   ]
  },
  {
   "cell_type": "code",
   "execution_count": 201,
   "id": "8e357e9b",
   "metadata": {},
   "outputs": [],
   "source": [
    "# import seaborn    Библиотеку\n",
    "# 8) 8 Шаг Визиализация \n"
   ]
  },
  {
   "cell_type": "code",
   "execution_count": 202,
   "id": "4f408f2b",
   "metadata": {},
   "outputs": [],
   "source": [
    "xx = [v for k,v in freq_of_words.items()] # Это номоры черодования \n",
    "yy = [k for k,v in freq_of_words.items()] # Это слова из даты "
   ]
  },
  {
   "cell_type": "code",
   "execution_count": 203,
   "id": "e4ad91f2",
   "metadata": {},
   "outputs": [],
   "source": [
    "#print(xx)"
   ]
  },
  {
   "cell_type": "code",
   "execution_count": 204,
   "id": "5567ff02",
   "metadata": {},
   "outputs": [],
   "source": [
    "#print(yy)"
   ]
  },
  {
   "cell_type": "code",
   "execution_count": 205,
   "id": "c609bd1c",
   "metadata": {},
   "outputs": [
    {
     "data": {
      "text/plain": [
       "<AxesSubplot:>"
      ]
     },
     "execution_count": 205,
     "metadata": {},
     "output_type": "execute_result"
    },
    {
     "data": {
      "image/png": "[encoded data removed]",
      "text/plain": [
       "<Figure size 432x288 with 1 Axes>"
      ]
     },
     "metadata": {
      "needs_background": "light"
     },
     "output_type": "display_data"
    }
   ],
   "source": [
    "sns.barplot(x = xx[0:20], y = yy[0:20])"
   ]
  },
  {
   "cell_type": "code",
   "execution_count": 206,
   "id": "0bd6398c",
   "metadata": {},
   "outputs": [],
   "source": [
    "# 9) 9 Шаг Filtering фильтрация графика\n",
    "# Убираем ненужные слова из графика например a, b , c , above"
   ]
  },
  {
   "cell_type": "code",
   "execution_count": 207,
   "id": "878f552b",
   "metadata": {},
   "outputs": [],
   "source": [
    "stop_words = ['o', 'm', 'and', 'the', 'a', 'of', 'to', 'in', 'about', 'to', 'is', 'an',\n",
    "                 'by', 'that', 'for', 'was', 'were', 'are', 'from', 'at', 'it',\n",
    "                 'as', 'be', 'these', 'on', 'with', 'this', 'have', 'has',\n",
    "                 'other', 'because', 'can', 'its', 'out', 'into', 'or', 'over',\n",
    "                 'all', 'most', 'which', 'less', 'while', 'above', 'than', 's', 'b', 'd', 'this','that', 'theese',\n",
    "                 'what', 'g', 'no', 'end', 'one', 'uv', 'o2', '03', 'h', 'v', 'uv', 'if', 'c', 'so', 'dna', 'du', 'but',\n",
    "                 'cl', 'br', 'where', 'then', 'may', 'also', 'how', 'much', 'why', 'what', 'used']\n"
   ]
  },
  {
   "cell_type": "code",
   "execution_count": 208,
   "id": "d1075ba0",
   "metadata": {},
   "outputs": [],
   "source": [
    "meanigful_text = [word for word in plain_text if word not in stop_words]\n",
    "#print(meanigful_text)"
   ]
  },
  {
   "cell_type": "code",
   "execution_count": 209,
   "id": "c754e62a",
   "metadata": {},
   "outputs": [],
   "source": [
    "freq_of_meaningful_words = count_frequency(meanigful_text)"
   ]
  },
  {
   "cell_type": "code",
   "execution_count": 210,
   "id": "49bc86e6",
   "metadata": {},
   "outputs": [],
   "source": [
    "freq_of_meaningful_words = {k:v for k,v in sorted(freq_of_meaningful_words.items(),\n",
    "                           key=lambda item: item[1], \n",
    "                           reverse=True)\n",
    "                           } # Dictionary comprehention"
   ]
  },
  {
   "cell_type": "code",
   "execution_count": 212,
   "id": "148ddcc0",
   "metadata": {},
   "outputs": [
    {
     "data": {
      "text/plain": [
       "<AxesSubplot:>"
      ]
     },
     "execution_count": 212,
     "metadata": {},
     "output_type": "execute_result"
    },
    {
     "data": {
      "image/png": "[encoded data removed]",
      "text/plain": [
       "<Figure size 432x288 with 1 Axes>"
      ]
     },
     "metadata": {
      "needs_background": "light"
     },
     "output_type": "display_data"
    }
   ],
   "source": [
    "xxx = [v for k,v in freq_of_meaningful_words.items()] # Это номоры черодования \n",
    "yyy = [k for k,v in freq_of_meaningful_words.items()] # Это слова из даты \n",
    "\n",
    "sns.barplot(x = xxx[0:20], y = yyy[0:20])"
   ]
  },
  {
   "cell_type": "code",
   "execution_count": null,
   "id": "735cf680",
   "metadata": {},
   "outputs": [],
   "source": []
  }
 ],
 "metadata": {
  "kernelspec": {
   "display_name": "Python 3",
   "language": "python",
   "name": "python3"
  },
  "language_info": {
   "codemirror_mode": {
    "name": "ipython",
    "version": 3
   },
   "file_extension": ".py",
   "mimetype": "text/x-python",
   "name": "python",
   "nbconvert_exporter": "python",
   "pygments_lexer": "ipython3",
   "version": "3.6.7"
  }
 },
 "nbformat": 4,
 "nbformat_minor": 5
}
